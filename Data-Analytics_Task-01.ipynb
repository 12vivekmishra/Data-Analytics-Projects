{
 "cells": [
  {
   "cell_type": "markdown",
   "id": "e3be70fc",
   "metadata": {},
   "source": [
    "# Create a bar chart or histogram to visualize the distribution of a categorical or continuous variable, such as the distribution of ages or genders in a population.# "
   ]
  },
  {
   "cell_type": "code",
   "execution_count": 20,
   "id": "0aa4b46d",
   "metadata": {},
   "outputs": [],
   "source": [
    "import pandas as pd\n",
    "import matplotlib.pyplot as plt\n",
    "import numpy as np"
   ]
  },
  {
   "cell_type": "code",
   "execution_count": 9,
   "id": "c847ff73",
   "metadata": {},
   "outputs": [],
   "source": [
    "data = pd.read_csv('POPULATION,DATASET.csv')"
   ]
  },
  {
   "cell_type": "code",
   "execution_count": 10,
   "id": "5cbdd198",
   "metadata": {},
   "outputs": [
    {
     "data": {
      "text/html": [
       "<div>\n",
       "<style scoped>\n",
       "    .dataframe tbody tr th:only-of-type {\n",
       "        vertical-align: middle;\n",
       "    }\n",
       "\n",
       "    .dataframe tbody tr th {\n",
       "        vertical-align: top;\n",
       "    }\n",
       "\n",
       "    .dataframe thead th {\n",
       "        text-align: right;\n",
       "    }\n",
       "</style>\n",
       "<table border=\"1\" class=\"dataframe\">\n",
       "  <thead>\n",
       "    <tr style=\"text-align: right;\">\n",
       "      <th></th>\n",
       "      <th>STRUCTURE</th>\n",
       "      <th>STRUCTURE_ID</th>\n",
       "      <th>STRUCTURE_NAME</th>\n",
       "      <th>ACTION</th>\n",
       "      <th>COUNTRY</th>\n",
       "      <th>Country</th>\n",
       "      <th>DAGEGR</th>\n",
       "      <th>Age groups</th>\n",
       "      <th>DSEX</th>\n",
       "      <th>Gender</th>\n",
       "      <th>...</th>\n",
       "      <th>OBS_VALUE</th>\n",
       "      <th>Observation Value</th>\n",
       "      <th>OBS_STATUS</th>\n",
       "      <th>Observation Status</th>\n",
       "      <th>UNIT_MEASURE</th>\n",
       "      <th>Unit of Measures</th>\n",
       "      <th>UNIT_MULT</th>\n",
       "      <th>Multiplier</th>\n",
       "      <th>BASE_PER</th>\n",
       "      <th>Base reference period</th>\n",
       "    </tr>\n",
       "  </thead>\n",
       "  <tbody>\n",
       "    <tr>\n",
       "      <th>0</th>\n",
       "      <td>DATAFLOW</td>\n",
       "      <td>OECD:DF_RPOP(1.0)</td>\n",
       "      <td>Total population by sex and age</td>\n",
       "      <td>I</td>\n",
       "      <td>AUS</td>\n",
       "      <td>Australia</td>\n",
       "      <td>1111</td>\n",
       "      <td>11 years</td>\n",
       "      <td>90</td>\n",
       "      <td>Total males+females</td>\n",
       "      <td>...</td>\n",
       "      <td>276035.0</td>\n",
       "      <td>NaN</td>\n",
       "      <td>A</td>\n",
       "      <td>NaN</td>\n",
       "      <td>NaN</td>\n",
       "      <td>NaN</td>\n",
       "      <td>NaN</td>\n",
       "      <td>NaN</td>\n",
       "      <td>NaN</td>\n",
       "      <td>NaN</td>\n",
       "    </tr>\n",
       "    <tr>\n",
       "      <th>1</th>\n",
       "      <td>DATAFLOW</td>\n",
       "      <td>OECD:DF_RPOP(1.0)</td>\n",
       "      <td>Total population by sex and age</td>\n",
       "      <td>I</td>\n",
       "      <td>AUS</td>\n",
       "      <td>Australia</td>\n",
       "      <td>1010</td>\n",
       "      <td>10 years</td>\n",
       "      <td>1</td>\n",
       "      <td>Males</td>\n",
       "      <td>...</td>\n",
       "      <td>138989.0</td>\n",
       "      <td>NaN</td>\n",
       "      <td>A</td>\n",
       "      <td>NaN</td>\n",
       "      <td>NaN</td>\n",
       "      <td>NaN</td>\n",
       "      <td>NaN</td>\n",
       "      <td>NaN</td>\n",
       "      <td>NaN</td>\n",
       "      <td>NaN</td>\n",
       "    </tr>\n",
       "    <tr>\n",
       "      <th>2</th>\n",
       "      <td>DATAFLOW</td>\n",
       "      <td>OECD:DF_RPOP(1.0)</td>\n",
       "      <td>Total population by sex and age</td>\n",
       "      <td>I</td>\n",
       "      <td>AUS</td>\n",
       "      <td>Australia</td>\n",
       "      <td>1010</td>\n",
       "      <td>10 years</td>\n",
       "      <td>2</td>\n",
       "      <td>Females</td>\n",
       "      <td>...</td>\n",
       "      <td>132427.0</td>\n",
       "      <td>NaN</td>\n",
       "      <td>A</td>\n",
       "      <td>NaN</td>\n",
       "      <td>NaN</td>\n",
       "      <td>NaN</td>\n",
       "      <td>NaN</td>\n",
       "      <td>NaN</td>\n",
       "      <td>NaN</td>\n",
       "      <td>NaN</td>\n",
       "    </tr>\n",
       "    <tr>\n",
       "      <th>3</th>\n",
       "      <td>DATAFLOW</td>\n",
       "      <td>OECD:DF_RPOP(1.0)</td>\n",
       "      <td>Total population by sex and age</td>\n",
       "      <td>I</td>\n",
       "      <td>AUS</td>\n",
       "      <td>Australia</td>\n",
       "      <td>1010</td>\n",
       "      <td>10 years</td>\n",
       "      <td>90</td>\n",
       "      <td>Total males+females</td>\n",
       "      <td>...</td>\n",
       "      <td>271416.0</td>\n",
       "      <td>NaN</td>\n",
       "      <td>A</td>\n",
       "      <td>NaN</td>\n",
       "      <td>NaN</td>\n",
       "      <td>NaN</td>\n",
       "      <td>NaN</td>\n",
       "      <td>NaN</td>\n",
       "      <td>NaN</td>\n",
       "      <td>NaN</td>\n",
       "    </tr>\n",
       "    <tr>\n",
       "      <th>4</th>\n",
       "      <td>DATAFLOW</td>\n",
       "      <td>OECD:DF_RPOP(1.0)</td>\n",
       "      <td>Total population by sex and age</td>\n",
       "      <td>I</td>\n",
       "      <td>AUS</td>\n",
       "      <td>Australia</td>\n",
       "      <td>1014</td>\n",
       "      <td>10-14 years</td>\n",
       "      <td>1</td>\n",
       "      <td>Males</td>\n",
       "      <td>...</td>\n",
       "      <td>708804.0</td>\n",
       "      <td>NaN</td>\n",
       "      <td>A</td>\n",
       "      <td>NaN</td>\n",
       "      <td>NaN</td>\n",
       "      <td>NaN</td>\n",
       "      <td>NaN</td>\n",
       "      <td>NaN</td>\n",
       "      <td>NaN</td>\n",
       "      <td>NaN</td>\n",
       "    </tr>\n",
       "  </tbody>\n",
       "</table>\n",
       "<p>5 rows × 24 columns</p>\n",
       "</div>"
      ],
      "text/plain": [
       "  STRUCTURE       STRUCTURE_ID                   STRUCTURE_NAME ACTION  \\\n",
       "0  DATAFLOW  OECD:DF_RPOP(1.0)  Total population by sex and age      I   \n",
       "1  DATAFLOW  OECD:DF_RPOP(1.0)  Total population by sex and age      I   \n",
       "2  DATAFLOW  OECD:DF_RPOP(1.0)  Total population by sex and age      I   \n",
       "3  DATAFLOW  OECD:DF_RPOP(1.0)  Total population by sex and age      I   \n",
       "4  DATAFLOW  OECD:DF_RPOP(1.0)  Total population by sex and age      I   \n",
       "\n",
       "  COUNTRY    Country  DAGEGR   Age groups  DSEX               Gender  ...  \\\n",
       "0     AUS  Australia    1111     11 years    90  Total males+females  ...   \n",
       "1     AUS  Australia    1010     10 years     1                Males  ...   \n",
       "2     AUS  Australia    1010     10 years     2              Females  ...   \n",
       "3     AUS  Australia    1010     10 years    90  Total males+females  ...   \n",
       "4     AUS  Australia    1014  10-14 years     1                Males  ...   \n",
       "\n",
       "   OBS_VALUE Observation Value  OBS_STATUS  Observation Status  UNIT_MEASURE  \\\n",
       "0   276035.0               NaN           A                 NaN           NaN   \n",
       "1   138989.0               NaN           A                 NaN           NaN   \n",
       "2   132427.0               NaN           A                 NaN           NaN   \n",
       "3   271416.0               NaN           A                 NaN           NaN   \n",
       "4   708804.0               NaN           A                 NaN           NaN   \n",
       "\n",
       "   Unit of Measures UNIT_MULT  Multiplier  BASE_PER  Base reference period  \n",
       "0               NaN       NaN         NaN       NaN                    NaN  \n",
       "1               NaN       NaN         NaN       NaN                    NaN  \n",
       "2               NaN       NaN         NaN       NaN                    NaN  \n",
       "3               NaN       NaN         NaN       NaN                    NaN  \n",
       "4               NaN       NaN         NaN       NaN                    NaN  \n",
       "\n",
       "[5 rows x 24 columns]"
      ]
     },
     "execution_count": 10,
     "metadata": {},
     "output_type": "execute_result"
    }
   ],
   "source": [
    "data.head()"
   ]
  },
  {
   "cell_type": "code",
   "execution_count": 11,
   "id": "ea2342b9",
   "metadata": {},
   "outputs": [],
   "source": [
    "gender_data = data[data['Gender'].isin(['Males', 'Females'])].groupby('Gender')['OBS_VALUE'].sum()"
   ]
  },
  {
   "cell_type": "code",
   "execution_count": 13,
   "id": "9f0e8d3f",
   "metadata": {},
   "outputs": [],
   "source": [
    "age_data = data[data['Age groups'].str.isnumeric()]"
   ]
  },
  {
   "cell_type": "markdown",
   "id": "a73a1323",
   "metadata": {},
   "source": [
    "# Bar graph representation"
   ]
  },
  {
   "cell_type": "code",
   "execution_count": 21,
   "id": "70d58226",
   "metadata": {},
   "outputs": [
    {
     "data": {
      "image/png": "[encoded data removed]",
      "text/plain": [
       "<Figure size 576x432 with 1 Axes>"
      ]
     },
     "metadata": {
      "needs_background": "light"
     },
     "output_type": "display_data"
    }
   ],
   "source": [
    "plt.figure(figsize=(8, 6))\n",
    "plt.bar(gender_data.index, gender_data.values, color=['blue', 'pink'])\n",
    "plt.xlabel('Gender')\n",
    "plt.ylabel('Population')\n",
    "plt.title('Gender Distribution in Population')\n",
    "plt.show()"
   ]
  },
  {
   "cell_type": "code",
   "execution_count": 22,
   "id": "5abc2540",
   "metadata": {},
   "outputs": [],
   "source": [
    "age_data = data[pd.to_numeric(data['Age groups'], errors='coerce').notnull()]"
   ]
  },
  {
   "cell_type": "code",
   "execution_count": 23,
   "id": "37b176de",
   "metadata": {},
   "outputs": [],
   "source": [
    "age_data['Age groups'] = age_data['Age groups'].astype(int)\n",
    "age_data = age_data.sort_values('Age groups')"
   ]
  },
  {
   "cell_type": "code",
   "execution_count": 24,
   "id": "74429a06",
   "metadata": {},
   "outputs": [],
   "source": [
    "bins = [0, 10, 20, 30, 40, 50, 60, 70, 80, 90, 100]\n",
    "labels = ['0-10', '11-20', '21-30', '31-40', '41-50', '51-60', '61-70', '71-80', '81-90', '91-100']\n",
    "colors = plt.cm.viridis(np.linspace(0, 1, len(bins)-1))"
   ]
  },
  {
   "cell_type": "code",
   "execution_count": 25,
   "id": "f6ad7bce",
   "metadata": {},
   "outputs": [],
   "source": [
    "age_data['Age Range'] = pd.cut(age_data['Age groups'], bins=bins, labels=labels, right=False)"
   ]
  },
  {
   "cell_type": "markdown",
   "id": "897abcfb",
   "metadata": {},
   "source": [
    "# histogram representation"
   ]
  },
  {
   "cell_type": "code",
   "execution_count": 30,
   "id": "6506c15f",
   "metadata": {},
   "outputs": [
    {
     "data": {
      "image/png": "[encoded data removed]",
      "text/plain": [
       "<Figure size 864x576 with 1 Axes>"
      ]
     },
     "metadata": {
      "needs_background": "light"
     },
     "output_type": "display_data"
    }
   ],
   "source": [
    "plt.figure(figsize=(12, 8))\n",
    "n, bins, patches = plt.hist(age_data['OBS_VALUE'], bins=bins, edgecolor='black', alpha=0.7)"
   ]
  },
  {
   "cell_type": "code",
   "execution_count": 31,
   "id": "7c44aaca",
   "metadata": {},
   "outputs": [],
   "source": [
    "for patch, color in zip(patches, colors):\n",
    "    patch.set_facecolor(color)"
   ]
  },
  {
   "cell_type": "code",
   "execution_count": 32,
   "id": "9725bc80",
   "metadata": {},
   "outputs": [
    {
     "data": {
      "image/png": "[encoded data removed]",
      "text/plain": [
       "<Figure size 432x288 with 1 Axes>"
      ]
     },
     "metadata": {
      "needs_background": "light"
     },
     "output_type": "display_data"
    }
   ],
   "source": [
    "plt.xlabel('Age Groups')\n",
    "plt.ylabel('Population')\n",
    "plt.title('Age Distribution in Population')\n",
    "plt.legend(handles=patches, labels=labels, title='Age Ranges')\n",
    "plt.grid(axis='y', linestyle='--', alpha=0.7)\n",
    "plt.show()"
   ]
  },
  {
   "cell_type": "code",
   "execution_count": null,
   "id": "6f370806",
   "metadata": {},
   "outputs": [],
   "source": []
  }
 ],
 "metadata": {
  "kernelspec": {
   "display_name": "Python 3 (ipykernel)",
   "language": "python",
   "name": "python3"
  },
  "language_info": {
   "codemirror_mode": {
    "name": "ipython",
    "version": 3
   },
   "file_extension": ".py",
   "mimetype": "text/x-python",
   "name": "python",
   "nbconvert_exporter": "python",
   "pygments_lexer": "ipython3",
   "version": "3.9.7"
  }
 },
 "nbformat": 4,
 "nbformat_minor": 5
}
